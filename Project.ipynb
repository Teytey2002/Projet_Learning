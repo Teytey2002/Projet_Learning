{
 "cells": [
  {
   "cell_type": "markdown",
   "metadata": {},
   "source": [
    "# Evolution of commitment and level of participation in public goods games"
   ]
  },
  {
   "cell_type": "markdown",
   "metadata": {},
   "source": [
    "### Import of library needed"
   ]
  },
  {
   "cell_type": "code",
   "execution_count": null,
   "metadata": {},
   "outputs": [],
   "source": [
    "import numpy as np\n",
    "import matplotlib.pyplot as plt\n",
    "from typing import Union, List\n",
    "\n",
    "from egttools.games import AbstractNPlayerGame\n",
    "from egttools import sample_simplex, calculate_nb_states\n",
    "from egttools.analytical import PairwiseComparison\n",
    "from egttools.utils import calculate_stationary_distribution\n",
    "from egttools.plotting import draw_invasion_diagram"
   ]
  },
  {
   "cell_type": "markdown",
   "metadata": {},
   "source": [
    "### Definition of the PGG class"
   ]
  },
  {
   "cell_type": "code",
   "execution_count": 1,
   "metadata": {},
   "outputs": [
    {
     "ename": "NameError",
     "evalue": "name 'AbstractNPlayerGame' is not defined",
     "output_type": "error",
     "traceback": [
      "\u001b[0;31m---------------------------------------------------------------------------\u001b[0m",
      "\u001b[0;31mNameError\u001b[0m                                 Traceback (most recent call last)",
      "Cell \u001b[0;32mIn[1], line 1\u001b[0m\n\u001b[0;32m----> 1\u001b[0m \u001b[38;5;28;01mclass\u001b[39;00m \u001b[38;5;21;01mPGGwithPunishment\u001b[39;00m(\u001b[43mAbstractNPlayerGame\u001b[49m):\n\u001b[1;32m      2\u001b[0m     \u001b[38;5;28;01mdef\u001b[39;00m \u001b[38;5;21m__init__\u001b[39m(\u001b[38;5;28mself\u001b[39m, \n\u001b[1;32m      3\u001b[0m                  group_size: \u001b[38;5;28mint\u001b[39m,   \u001b[38;5;66;03m# number of participants in the PGG\u001b[39;00m\n\u001b[1;32m      4\u001b[0m                  c: \u001b[38;5;28mfloat\u001b[39m,          \u001b[38;5;66;03m# cost of cooperation\u001b[39;00m\n\u001b[0;32m   (...)\u001b[0m\n\u001b[1;32m      8\u001b[0m                  delta : \u001b[38;5;28mfloat\u001b[39m,     \u001b[38;5;66;03m# cost to don't respect the commitment\u001b[39;00m\n\u001b[1;32m      9\u001b[0m                 ):\n\u001b[1;32m     10\u001b[0m         AbstractNPlayerGame\u001b[38;5;241m.\u001b[39m\u001b[38;5;21m__init__\u001b[39m(\u001b[38;5;28mself\u001b[39m, \u001b[38;5;241m4\u001b[39m, group_size)\n",
      "\u001b[0;31mNameError\u001b[0m: name 'AbstractNPlayerGame' is not defined"
     ]
    }
   ],
   "source": [
    "class PGGwithPunishment(AbstractNPlayerGame):\n",
    "    def __init__(self, \n",
    "                 group_size: int,   # number of participants in the PGG\n",
    "                 c: float,          # cost of cooperation\n",
    "                 r: float,          # enhancing factor (multiplier)\n",
    "                 eps: float,        # cost for propose a commitment\n",
    "                 F: int,            # nombre de gens qui acceptent le contrat pour pouvoir jouer le PGG  (L : Seem weird to me)\n",
    "                 delta : float,     # cost to don't respect the commitment\n",
    "                ):\n",
    "        AbstractNPlayerGame.__init__(self, 4, group_size)\n",
    "        self.nb_strategies_ = 5\n",
    "        self.group_size_ = group_size\n",
    "\n",
    "        self.strategies = [\"COMP\", \"C\", \"D\", \"FAKE\", \"FREE\"]  # Propose ,Cooperate, Defect, Fake, Free\n",
    "        self.c = c\n",
    "        self.r = r\n",
    "        self.eps = eps\n",
    "        self.delta = delta\n",
    "        self.F = F\n",
    "        self.nb_group_configurations_ = self.nb_group_configurations()\n",
    "        self.calculate_payoffs()\n",
    "\n",
    "    def get_strategy(self, strategy: str):\n",
    "        \"\"\"Define actions based on each strategy.\"\"\"\n",
    "        \n",
    "        contribute = False\n",
    "        propose = False\n",
    "        accept = False\n",
    "        \n",
    "        if strategy == \"COMP\": # Proposers \n",
    "            contribute = True\n",
    "            propose = True\n",
    "            accept = True\n",
    "        elif strategy == \"C\": # Unconditional contributors\n",
    "            contribute = True\n",
    "            propose = False\n",
    "            accept = True\n",
    "        elif strategy == \"D\": # Defectors\n",
    "            contribute = False\n",
    "            propose = False\n",
    "            accept = False\n",
    "        elif strategy == \"FAKE\": # Fake committers\n",
    "            contribute = False\n",
    "            propose = False\n",
    "            accept = True\n",
    "        elif strategy == \"FREE\": # commitment free-riders\n",
    "            pass\n",
    "        \n",
    "        return contribute, propose, accept\n",
    "\n",
    "    def play(self, group_composition: Union[List[int], np.ndarray], game_payoffs: np.ndarray) -> None:\n",
    "        PROPOSER, COOPERATOR, DEFECTOR, FAKER, FREE  = 0, 1, 2, 3, 4\n",
    "        nb_contributors = group_composition[PROPOSER] + group_composition[COOPERATOR]\n",
    "        nb_acceptors = group_composition[FAKER] + nb_contributors\n",
    "\n",
    "\n",
    "        # There is no proposer so it is a original PGG\n",
    "        if group_composition[PROPOSER] == 0 : # Node 5\n",
    "            nb_contributors = group_composition[COOPERATOR]\n",
    "            nb_defectors = group_composition[FAKER] + group_composition[DEFECTOR] + group_composition[FREE]\n",
    "            nb_participants = nb_defectors + nb_contributors\n",
    "            total_reward = self.r * self.c * nb_contributors \n",
    "            individual_reward = total_reward / nb_participants \n",
    "\n",
    "            for index, _ in enumerate(group_composition):\n",
    "                contributes, proposes, accepts = self.get_strategy(self.strategies[index])\n",
    "                game_payoffs[index] += individual_reward\n",
    "                if contributes :\n",
    "                    game_payoffs[index] -= self.c \n",
    "\n",
    "        # There is at least one proposer \n",
    "        elif group_composition[PROPOSER] >= 1 : # Node 2\n",
    "            if nb_acceptors < self.F :\n",
    "                pass\n",
    "                # Code van Eliott \n",
    "\n",
    "            else : \n",
    "                return # The PGG is not played\n",
    "        \n",
    "        # The PGG is not played\n",
    "        else :\n",
    "            return\n",
    "\n",
    "\n",
    "    def calculate_payoffs(self) -> np.ndarray:\n",
    "        \"\"\"Calculate and store the payoffs for each strategy in the game.\"\"\"\n",
    "        \n",
    "        payoffs_container = np.zeros(shape=(self.nb_strategies_,), dtype=np.float64)\n",
    "        \n",
    "        for i in range(self.nb_group_configurations_):\n",
    "            # Generate a sample group composition\n",
    "            group_composition = sample_simplex(i, self.group_size_, self.nb_strategies_)\n",
    "            group_composition = np.array(group_composition, dtype=float)\n",
    "\n",
    "            # Play the game with the given group composition\n",
    "            #self.play(group_composition, payoffs_container)\n",
    "            self.play(group_composition, payoffs_container)\n",
    "\n",
    "            # Store payoffs for each strategy\n",
    "            for strategy_index, strategy_payoff in enumerate(payoffs_container):\n",
    "                self.update_payoff(strategy_index, i, strategy_payoff)\n",
    "                \n",
    "            # Reset the payoff container for the next configuration\n",
    "            payoffs_container[:] = 0\n",
    "\n",
    "        return self.payoffs()"
   ]
  },
  {
   "cell_type": "code",
   "execution_count": null,
   "metadata": {},
   "outputs": [],
   "source": []
  }
 ],
 "metadata": {
  "kernelspec": {
   "display_name": "Python 3",
   "language": "python",
   "name": "python3"
  },
  "language_info": {
   "codemirror_mode": {
    "name": "ipython",
    "version": 3
   },
   "file_extension": ".py",
   "mimetype": "text/x-python",
   "name": "python",
   "nbconvert_exporter": "python",
   "pygments_lexer": "ipython3",
   "version": "3.10.12"
  }
 },
 "nbformat": 4,
 "nbformat_minor": 2
}
